{
 "cells": [
  {
   "cell_type": "code",
   "execution_count": null,
   "metadata": {},
   "outputs": [],
   "source": [
    "# import necessary libraries\n",
    "import pandas as pd\n",
    "import urllib.request as ul\n",
    "from bs4 import BeautifulSoup as soup\n",
    "from IPython.display import display\n",
    "\n"
   ]
  },
  {
   "cell_type": "markdown",
   "metadata": {},
   "source": [
    "### Load all necessary dataset."
   ]
  },
  {
   "cell_type": "code",
   "execution_count": null,
   "metadata": {},
   "outputs": [],
   "source": [
    "data_raw = pd.read_csv('Raw_Skills_Dataset.csv')\n",
    "print(data_raw.isnull().any())\n",
    "display(data_raw.head(10))"
   ]
  },
  {
   "cell_type": "code",
   "execution_count": null,
   "metadata": {},
   "outputs": [],
   "source": [
    "# load the dataset to see the list of hard technical skills\n",
    "hard = pd.read_csv('Example_Technical_Skills.csv')\n",
    "display(hard.tail(10))"
   ]
  },
  {
   "cell_type": "markdown",
   "metadata": {},
   "source": [
    "### Exploratory Analysis"
   ]
  },
  {
   "cell_type": "code",
   "execution_count": null,
   "metadata": {},
   "outputs": [],
   "source": [
    "# Remove spaces from th beginning of words\n",
    "data_raw['RAW DATA'] = data_raw['RAW DATA'].str.lstrip()\n",
    "data_raw.head(20)"
   ]
  },
  {
   "cell_type": "code",
   "execution_count": null,
   "metadata": {},
   "outputs": [],
   "source": [
    "# Removing all the uncessary special characters.\n",
    "data_raw = data_raw.replace(r'[^0-9a-zA-Z ]', ' ', regex=True).replace(\"'\", \"'\")\n"
   ]
  },
  {
   "cell_type": "code",
   "execution_count": null,
   "metadata": {},
   "outputs": [],
   "source": []
  },
  {
   "cell_type": "markdown",
   "metadata": {},
   "source": [
    "### Generate soft skills dataset"
   ]
  },
  {
   "cell_type": "code",
   "execution_count": null,
   "metadata": {},
   "outputs": [],
   "source": [
    "# List of soft skills\n",
    "'''These coded below extract about 135 soft skills and store them in a csv file format'''\n",
    "url = 'https://www.developgoodhabits.com/soft-skills-list/'\n",
    "req = ul.Request(url, headers={'User-Agent': 'Mozilla/5.0'})\n",
    "client = ul.urlopen(req)\n",
    "htmldata = client.read()\n",
    "client.close()\n",
    "\n",
    "pagesoup = soup(htmldata, \"html.parser\")\n",
    "soft_skills_list = pagesoup.findAll('h3')"
   ]
  },
  {
   "cell_type": "code",
   "execution_count": null,
   "metadata": {},
   "outputs": [],
   "source": [
    "# write to csv file\n",
    "filename = 'soft_skills.csv'\n",
    "f = open(filename, 'w', encoding='utf')\n",
    "header = 'Soft Skills'\n",
    "f.write(header + \"\\n\")\n",
    "\n",
    "for item in soft_skills_list:\n",
    "    name_soft = item.findAll('span')\n",
    "    if len(name_soft) != 0:\n",
    "        name = name_soft[0].text\n",
    "        name = name.split(' ', 1)[1]\n",
    "        f.write(name + '\\n')\n",
    "\n",
    "f.close()\n",
    "\n"
   ]
  },
  {
   "cell_type": "code",
   "execution_count": null,
   "metadata": {},
   "outputs": [],
   "source": [
    "# load the soft skill data\n",
    "soft = pd.read_csv('soft_skills.csv')\n",
    "display(soft.head(10))"
   ]
  },
  {
   "cell_type": "markdown",
   "metadata": {},
   "source": [
    "### Check if there is similar skills in both the hard and soft technical skills "
   ]
  },
  {
   "cell_type": "code",
   "execution_count": null,
   "metadata": {},
   "outputs": [],
   "source": [
    "similar = pd.merge(hard, soft, left_on=['Technology Skills'], right_on=['Soft Skills'], how='inner')\n",
    "print(len(similar))\n",
    "\n",
    "'''From the above code it is clearly seen that the hard and soft skills were properly classified.'''"
   ]
  },
  {
   "cell_type": "code",
   "execution_count": null,
   "metadata": {},
   "outputs": [],
   "source": [
    "def hard_skills_extractor(data):\n",
    "    \n",
    "    try:\n",
    "        for column in data.columns:\n",
    "            if data[column].dtype == object:\n",
    "                hard_skills = data.loc[data[column].isin(hard['Technology Skills']),:]\n",
    "                if len(hard_skills) != 0:\n",
    "                    hard_skills.columns = ['Hard Tech Skills']\n",
    "                    hard_skills.to_csv('Hard_Technical_Skills.csv')\n",
    "                    print('file extracted') \n",
    "\n",
    "    except FileNotFoundError:\n",
    "        print(\"File could not be found\")\n",
    "\n",
    "    except:\n",
    "        print('An Error occured') \n",
    "\n",
    "    return  "
   ]
  },
  {
   "cell_type": "code",
   "execution_count": null,
   "metadata": {},
   "outputs": [],
   "source": [
    "def soft_skills_extractor(data):\n",
    "    \n",
    "    try:\n",
    "        for column in data.columns:\n",
    "            if data[column].dtype == object:\n",
    "                soft_skills = data.loc[data[column].isin(soft['Soft Skills']),:]\n",
    "                if len(soft_skills) != 0:\n",
    "                    soft_skills.columns = ['Soft Skills']\n",
    "                    soft_skills.to_csv('Soft_Technical_Skills.csv')\n",
    "                    print(\"file extracted\")\n",
    "    \n",
    "    except FileNotFoundError:\n",
    "        print(\"File could not be found\")\n",
    "\n",
    "    except:\n",
    "        print('An Error occured')\n",
    "    \n",
    "    return"
   ]
  },
  {
   "cell_type": "code",
   "execution_count": null,
   "metadata": {},
   "outputs": [],
   "source": [
    "# # Code that extracts both soft and hard skills.\n",
    "# def skills_extractor(data):\n",
    "    \n",
    "#     try:\n",
    "#         for column in data.columns:\n",
    "#             if data[column].dtype == object:\n",
    "#                 hard_skills = data.loc[data[column].isin(hard['Technology Skills']),:]\n",
    "#                 if len(hard_skills) != 0:\n",
    "#                     hard_skills.columns = ['Hard Tech Skills']\n",
    "#                     hard_skills.to_csv('Hard_Technical_Skills.csv') \n",
    "                \n",
    "#                 soft_skills = data.loc[data[column].isin(soft['Soft Skills']),:]\n",
    "#                 if len(soft_skills) != 0:\n",
    "#                     soft_skills.columns = ['Soft Skills']\n",
    "#                     soft_skills.to_csv('Soft_Technical_Skills.csv')\n",
    "#                 print(\"Files extracted\")\n",
    "\n",
    "#     except FileNotFoundError:\n",
    "#         print(\"File could not be found\")\n",
    "\n",
    "#     except:\n",
    "#         print('An Error occured') \n",
    "\n",
    "#     return  "
   ]
  },
  {
   "cell_type": "code",
   "execution_count": null,
   "metadata": {},
   "outputs": [],
   "source": [
    "hard_skills_extractor(data_raw)"
   ]
  },
  {
   "cell_type": "code",
   "execution_count": null,
   "metadata": {},
   "outputs": [],
   "source": [
    "soft_skills_extractor(data_raw)"
   ]
  }
 ],
 "metadata": {
  "interpreter": {
   "hash": "e593ac106456af50ce7af38f9671c411b49d6cd90f9b885e167f0f594e09038c"
  },
  "kernelspec": {
   "display_name": "Python 3.10.4 64-bit",
   "language": "python",
   "name": "python3"
  },
  "language_info": {
   "codemirror_mode": {
    "name": "ipython",
    "version": 3
   },
   "file_extension": ".py",
   "mimetype": "text/x-python",
   "name": "python",
   "nbconvert_exporter": "python",
   "pygments_lexer": "ipython3",
   "version": "3.10.4"
  },
  "orig_nbformat": 4
 },
 "nbformat": 4,
 "nbformat_minor": 2
}
